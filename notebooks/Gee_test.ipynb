{
  "cells": [
    {
      "cell_type": "code",
      "execution_count": null,
      "id": "320bc036",
      "metadata": {
        "id": "320bc036"
      },
      "outputs": [],
      "source": [
        "import ee\n",
        "\n",
        "try:\n",
        "        ee.Initialize()\n",
        "except Exception as e:\n",
        "        ee.Authenticate()\n",
        "        ee.Initialize()\n",
        "\n",
        "import geemap"
      ]
    },
    {
      "cell_type": "code",
      "execution_count": null,
      "id": "2f439d0f",
      "metadata": {
        "id": "2f439d0f",
        "outputId": "5fb80605-62b6-4c89-f59f-931fea8db3ab",
        "colab": {
          "referenced_widgets": [
            "6b0b2c12397841e9b0610f1284f968e3"
          ]
        }
      },
      "outputs": [
        {
          "data": {
            "application/vnd.jupyter.widget-view+json": {
              "model_id": "6b0b2c12397841e9b0610f1284f968e3",
              "version_major": 2,
              "version_minor": 0
            },
            "text/plain": [
              "Map(center=[36.836, 81.7574], controls=(WidgetControl(options=['position', 'transparent_bg'], widget=HBox(chil…"
            ]
          },
          "metadata": {},
          "output_type": "display_data"
        }
      ],
      "source": [
        "Map = geemap.Map(center=[36.8360, 81.7574], zoom=15)\n",
        "Map"
      ]
    },
    {
      "cell_type": "code",
      "execution_count": null,
      "id": "2af274d1",
      "metadata": {
        "id": "2af274d1"
      },
      "outputs": [],
      "source": [
        "# Aggiunta delle basemap\n",
        "Map.add_basemap(\"OpenStreetMap\")\n",
        "Map.add_basemap(\"SATELLITE\")"
      ]
    },
    {
      "cell_type": "code",
      "execution_count": null,
      "id": "785134eb",
      "metadata": {
        "id": "785134eb"
      },
      "outputs": [],
      "source": [
        "# aggiunta layer WMS\n",
        "naip_url = \"https://basemap.nationalmap.gov/arcgis/services/USGSHydroCached/MapServer/WMSServer?\"\n",
        "Map.add_wms_layer(url=naip_url, layers='0', name='USGS Hydrography', format='image/png', shown=True)"
      ]
    },
    {
      "cell_type": "code",
      "execution_count": null,
      "id": "9c409b3b",
      "metadata": {
        "id": "9c409b3b",
        "outputId": "fd5b1b36-52a6-49f9-a2c1-0aa3f0c65836",
        "colab": {
          "referenced_widgets": [
            "f11af29514a640298f4426cfd15990a5"
          ]
        }
      },
      "outputs": [
        {
          "data": {
            "application/vnd.jupyter.widget-view+json": {
              "model_id": "f11af29514a640298f4426cfd15990a5",
              "version_major": 2,
              "version_minor": 0
            },
            "text/plain": [
              "Map(center=[20, 0], controls=(WidgetControl(options=['position', 'transparent_bg'], widget=HBox(children=(Togg…"
            ]
          },
          "metadata": {},
          "output_type": "display_data"
        }
      ],
      "source": [
        "# Mappe demo\n",
        "MDemo = geemap.Map()\n",
        "MDemo.basemap_demo()\n",
        "MDemo"
      ]
    },
    {
      "cell_type": "code",
      "execution_count": null,
      "id": "611a780a",
      "metadata": {
        "scrolled": false,
        "id": "611a780a",
        "outputId": "9f50ba55-7b87-4a24-ba07-a670aa36a1ef",
        "colab": {
          "referenced_widgets": [
            "ea0d0c0f8e764c9fa7a6079f532e1852"
          ]
        }
      },
      "outputs": [
        {
          "data": {
            "application/vnd.jupyter.widget-view+json": {
              "model_id": "ea0d0c0f8e764c9fa7a6079f532e1852",
              "version_major": 2,
              "version_minor": 0
            },
            "text/plain": [
              "Map(center=[45, 10], controls=(ZoomControl(options=['position', 'zoom_in_text', 'zoom_in_title', 'zoom_out_tex…"
            ]
          },
          "metadata": {},
          "output_type": "display_data"
        }
      ],
      "source": [
        "# Split con due mappe (sola visualizzazione, no analisi)\n",
        "MapS = geemap.Map(center=[45,10], zoom=7)\n",
        "MapS.split_map(left_layer='HYBRID', right_layer='OpenStreetMap.HOT')\n",
        "MapS"
      ]
    },
    {
      "cell_type": "code",
      "execution_count": null,
      "id": "11905986",
      "metadata": {
        "id": "11905986"
      },
      "outputs": [],
      "source": [
        "Map3 = geemap.Map(center=[40,10], zoom=5)"
      ]
    },
    {
      "cell_type": "code",
      "execution_count": null,
      "id": "c59a7dcb",
      "metadata": {
        "id": "c59a7dcb",
        "outputId": "cc58fe24-1fc5-4beb-e4e6-02b3f19a2718",
        "colab": {
          "referenced_widgets": [
            "f839ae0f8996461088fd278c5b25b238"
          ]
        }
      },
      "outputs": [
        {
          "data": {
            "application/vnd.jupyter.widget-view+json": {
              "model_id": "f839ae0f8996461088fd278c5b25b238",
              "version_major": 2,
              "version_minor": 0
            },
            "text/plain": [
              "Map(center=[40, 10], controls=(WidgetControl(options=['position', 'transparent_bg'], widget=HBox(children=(Tog…"
            ]
          },
          "metadata": {},
          "output_type": "display_data"
        }
      ],
      "source": [
        "# Add Earth Engine dataset\n",
        "dem = ee.Image('USGS/SRTMGL1_003')\n",
        "landcover = ee.Image(\"ESA/GLOBCOVER_L4_200901_200912_V2_3\").select('landcover')\n",
        "landsat7 = ee.Image('LE7_TOA_5YEAR/1999_2003').select(\n",
        "    ['B1', 'B2', 'B3', 'B4', 'B5', 'B7']\n",
        ")\n",
        "\n",
        "# Set visualization parameters.\n",
        "vis_params = {\n",
        "    'min': 0,\n",
        "    'max': 4000,\n",
        "    'palette': ['006633', 'E5FFCC', '662A00', 'D8D8D8', 'F5F5F5'],\n",
        "}\n",
        "\n",
        "# Add Earth Eninge layers to Map\n",
        "Map3.addLayer(dem, vis_params, 'SRTM DEM', True, 0.5)\n",
        "Map3.addLayer(landcover, {}, 'Land cover')\n",
        "Map3.addLayer(\n",
        "    landsat7,\n",
        "    {'bands': ['B4', 'B3', 'B2'], 'min': 20, 'max': 200, 'gamma': 2.0},\n",
        "    'Landsat 7',\n",
        ")\n",
        "\n",
        "Map3"
      ]
    },
    {
      "cell_type": "code",
      "execution_count": 2,
      "id": "ef9b873e",
      "metadata": {
        "id": "ef9b873e",
        "outputId": "af6e0a1a-c3ae-4ff9-b47e-36833664a6ea",
        "colab": {
          "base_uri": "https://localhost:8080/",
          "height": 35
        }
      },
      "outputs": [
        {
          "output_type": "execute_result",
          "data": {
            "text/plain": [
              "'a test'"
            ],
            "application/vnd.google.colaboratory.intrinsic+json": {
              "type": "string"
            }
          },
          "metadata": {},
          "execution_count": 2
        }
      ],
      "source": [
        "\"a test\""
      ]
    }
  ],
  "metadata": {
    "kernelspec": {
      "display_name": "Python 3 (ipykernel)",
      "language": "python",
      "name": "python3"
    },
    "language_info": {
      "codemirror_mode": {
        "name": "ipython",
        "version": 3
      },
      "file_extension": ".py",
      "mimetype": "text/x-python",
      "name": "python",
      "nbconvert_exporter": "python",
      "pygments_lexer": "ipython3",
      "version": "3.9.12"
    },
    "colab": {
      "provenance": []
    }
  },
  "nbformat": 4,
  "nbformat_minor": 5
}